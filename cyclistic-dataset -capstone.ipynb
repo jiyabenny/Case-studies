{
 "cells": [
  {
   "cell_type": "markdown",
   "metadata": {},
   "source": []
  },
  {
   "cell_type": "markdown",
   "metadata": {},
   "source": [
    "# Cyclistic biking service case study\n",
    "\n",
    "## Jiya Benny\n",
    "\n",
    "## 07/02/2023\n",
    "\n",
    "## Case Study: How Does a Bike-Share Navigate Speedy Success?\n",
    "\n",
    "\n",
    "# Background\n",
    "\n",
    "In 2016, Cyclistic launched a successful bike-share offering. Since then, the program has grown to a fleet of 5,824 bicycles that are geo-tracked and locked into a network of 692 stations across Chicago.\n",
    "\n",
    "Until now, Cyclistic’s marketing strategy relied on building general awareness and appealing to broad consumer segments. One approach that helped make these things possible was the flexibility of its pricing plans: single-ride passes, full-day passes, and annual memberships. Customers who purchase single-ride or full-day passes are referred to as casual riders. Customers who purchase annual memberships are Cyclistic members. \n",
    "\n",
    "# Case study \n",
    "\n",
    "This report will examine the business question: 'what is the most effective marketing strategy to converting  Cyclistic’s casual riders to annul memberships?'\n",
    "\n",
    "It is understood that the goal can be broken down into 3 main questions.\n",
    "\n",
    " 1. How do annual members and casual riders use Cyclistic bikes differently? \n",
    " 2. Why would casual riders buy Cyclistic annual memberships? \n",
    " 3. How can Cyclistic use digital media to influence casual riders to become members?\n",
    "\n",
    "\n",
    "This report will seek to deliver on the following objectives:\n",
    "\n",
    "How do annual members and casual riders use Cyclistic bikes differently?\n",
    "\n",
    "# Stakeholders\n",
    "\n",
    "This report also seeks to identify the important stakeholders that are involved in the overall analysis. This includes: \n",
    "- cyclistic users, \n",
    "- director of marketing,\n",
    "- Cyclistic marketing team\n",
    "- Cyclistic executive team\n",
    "\n",
    "# Data sources\n",
    "\n",
    "User data from the past 12 months, January 2021 - December 2021 has been made available. Each data set is in csv format and details every ride logged by Cyclistic customers. This data has been made publicly available via license by Motivate International Inc. and the city of Chicago available [here](https://divvy-tripdata.s3.amazonaws.com/index.html). All user’s personal data has been scrubbed for privacy.\n",
    "\n",
    "# Documentation, cleaning and preparation of data for analysis\n",
    "\n",
    "## Tools for analysis\n",
    "\n",
    "R is being used due to the data size and visualizations needed to complete this analysis.\n",
    "\n",
    "## Preparation of Data "
   ]
  },
  {
   "cell_type": "code",
   "execution_count": 1,
   "metadata": {
    "execution": {
     "iopub.execute_input": "2023-01-04T03:59:50.734007Z",
     "iopub.status.busy": "2023-01-04T03:59:50.731290Z",
     "iopub.status.idle": "2023-01-04T03:59:52.319176Z"
    }
   },
   "outputs": [
    {
     "name": "stderr",
     "output_type": "stream",
     "text": [
      "── \u001b[1mAttaching packages\u001b[22m ─────────────────────────────────────── tidyverse 1.3.1 ──\n",
      "\n",
      "\u001b[32m✔\u001b[39m \u001b[34mggplot2\u001b[39m 3.3.5     \u001b[32m✔\u001b[39m \u001b[34mpurrr  \u001b[39m 0.3.4\n",
      "\u001b[32m✔\u001b[39m \u001b[34mtibble \u001b[39m 3.1.5     \u001b[32m✔\u001b[39m \u001b[34mdplyr  \u001b[39m 1.0.7\n",
      "\u001b[32m✔\u001b[39m \u001b[34mtidyr  \u001b[39m 1.1.4     \u001b[32m✔\u001b[39m \u001b[34mstringr\u001b[39m 1.4.0\n",
      "\u001b[32m✔\u001b[39m \u001b[34mreadr  \u001b[39m 2.0.2     \u001b[32m✔\u001b[39m \u001b[34mforcats\u001b[39m 0.5.1\n",
      "\n",
      "── \u001b[1mConflicts\u001b[22m ────────────────────────────────────────── tidyverse_conflicts() ──\n",
      "\u001b[31m✖\u001b[39m \u001b[34mdplyr\u001b[39m::\u001b[32mfilter()\u001b[39m masks \u001b[34mstats\u001b[39m::filter()\n",
      "\u001b[31m✖\u001b[39m \u001b[34mdplyr\u001b[39m::\u001b[32mlag()\u001b[39m    masks \u001b[34mstats\u001b[39m::lag()\n",
      "\n",
      "\n",
      "Attaching package: ‘lubridate’\n",
      "\n",
      "\n",
      "The following objects are masked from ‘package:base’:\n",
      "\n",
      "    date, intersect, setdiff, union\n",
      "\n",
      "\n",
      "\n",
      "Attaching package: ‘janitor’\n",
      "\n",
      "\n",
      "The following objects are masked from ‘package:stats’:\n",
      "\n",
      "    chisq.test, fisher.test\n",
      "\n",
      "\n"
     ]
    }
   ],
   "source": [
    "#Load the necessary libraries that will be utilized for the project\n",
    "library(tidyverse)\n",
    "library(lubridate)\n",
    "library(janitor)\n",
    "library(dplyr)\n",
    "library(ggplot2)"
   ]
  },
  {
   "cell_type": "markdown",
   "metadata": {},
   "source": []
  },
  {
   "cell_type": "markdown",
   "metadata": {},
   "source": [
    "### Load all the data, as well as combine every dataset"
   ]
  },
  {
   "cell_type": "code",
   "execution_count": null,
   "metadata": {
    "execution": {
     "iopub.execute_input": "2022-02-25T03:49:21.133351Z",
     "iopub.status.busy": "2022-02-25T03:49:21.124773Z",
     "iopub.status.idle": "2022-02-25T03:51:32.05763Z"
    }
   },
   "outputs": [],
   "source": [
    "trip20_Jan <- read.csv(\"../input/divvytrips2021/202101-divvy-tripdata.csv\") #load data into R\n",
    "trip20_Feb <- read.csv(\"../input/divvytrips2021/202102-divvy-tripdata.csv\")\n",
    "trip20_Mar <- read.csv(\"../input/divvytrips2021/202103-divvy-tripdata.csv\")\n",
    "trip20_Apr <- read.csv(\"../input/divvytrips2021/202104-divvy-tripdata.csv\")\n",
    "trip20_May <- read.csv(\"../input/divvytrips2021/202105-divvy-tripdata.csv\")\n",
    "trip20_Jun <- read.csv(\"../input/divvytrips2021/202106-divvy-tripdata.csv\")\n",
    "trip20_Jul <- read.csv(\"../input/divvytrips2021/202107-divvy-tripdata.csv\")\n",
    "trip20_Aug <- read.csv(\"../input/divvytrips2021/202108-divvy-tripdata.csv\")\n",
    "trip20_Sep <- read.csv(\"../input/divvytrips2021/202109-divvy-tripdata.csv\")\n",
    "trip20_Oct <- read.csv(\"../input/divvytrips2021/202110-divvy-tripdata.csv\")\n",
    "trip20_Nov <- read.csv(\"../input/divvytrips2021/202111-divvy-tripdata.csv\")\n",
    "trip20_Dec <- read.csv(\"../input/divvytrips2021/202112-divvy-tripdata.csv\")"
   ]
  },
  {
   "cell_type": "markdown",
   "metadata": {},
   "source": [
    "### Combine every dataset to consolidate analysis \n"
   ]
  },
  {
   "cell_type": "code",
   "execution_count": null,
   "metadata": {},
   "outputs": [],
   "source": [
    "trips20fill<- rbind(trip20_Jan, trip20_Feb, trip20_Mar, trip20_Apr, trip20_May, trip20_Jun, trip20_Jul, trip20_Aug, trip20_Sep, trip20_Oct, trip20_Nov, trip20_Dec)\n"
   ]
  },
  {
   "cell_type": "markdown",
   "metadata": {},
   "source": [
    "### View newly created dataset"
   ]
  },
  {
   "cell_type": "code",
   "execution_count": null,
   "metadata": {},
   "outputs": [],
   "source": [
    "View(trips20fill) #combine all datasets "
   ]
  },
  {
   "cell_type": "markdown",
   "metadata": {},
   "source": [
    "### Firstly remove all the irrelevent columns that won't be used for analysis "
   ]
  },
  {
   "cell_type": "code",
   "execution_count": null,
   "metadata": {},
   "outputs": [],
   "source": [
    "trips20fill <- trips20fill %>%  \n",
    "  select(-c(start_lat, start_lng, end_lat, end_lng, start_station_id,end_station_id, end_station_name))"
   ]
  },
  {
   "cell_type": "markdown",
   "metadata": {},
   "source": [
    "### Review of the data and its parameters. "
   ]
  },
  {
   "cell_type": "code",
   "execution_count": null,
   "metadata": {},
   "outputs": [],
   "source": [
    "colnames(trips20fill)  #List of column names\n",
    "nrow(trips20fill)  #How many rows are in data frame?\n",
    "dim(trips20fill)  #Dimensions of the data frame?\n",
    "head(trips20fill, 6)  #See the first 6 rows of data frame.  Also tail(all_trips)\n",
    "str(trips20fill)  #See list of columns and data types (numeric, character, etc)\n",
    "summary(trips20fill) #inspect the date and its dimensions before moving onto cleaning"
   ]
  },
  {
   "cell_type": "markdown",
   "metadata": {},
   "source": [
    "### Additional columns must be created for date and time."
   ]
  },
  {
   "cell_type": "code",
   "execution_count": null,
   "metadata": {},
   "outputs": [],
   "source": [
    "#The default format is yyyy-mm-dd\n",
    "trips20fill$date <- as.Date(trips20fill$started_at)\n",
    "trips20fill$month <- format(as.Date(trips20fill$date), \"%m\")\n",
    "trips20fill$day <- format(as.Date(trips20fill$date), \"%d\")\n",
    "trips20fill$year <- format(as.Date(trips20fill$date), \"%Y\")\n",
    "trips20fill$day_of_week <- format(as.Date(trips20fill$date), \"%A\")\n",
    "trips20fill$time <- format(trips20fill$started_at, format= \"%H:%M\")\n",
    "trips20fill$time <- as.POSIXct(trips20fill$time, format= \"%H:%M\")"
   ]
  },
  {
   "cell_type": "markdown",
   "metadata": {},
   "source": [
    "### Calculated filed that shows the time of each unique ride "
   ]
  },
  {
   "cell_type": "code",
   "execution_count": null,
   "metadata": {},
   "outputs": [],
   "source": [
    "#create calculated field to isolate time spent on every ride.\n",
    "trips20fill$ride_length <- (as.double(difftime(trips20fill$ended_at, trips20fill$started_at))) /60"
   ]
  },
  {
   "cell_type": "markdown",
   "metadata": {},
   "source": [
    "### Check data structure. Confirm data types for time/date "
   ]
  },
  {
   "cell_type": "code",
   "execution_count": null,
   "metadata": {},
   "outputs": [],
   "source": [
    "str(trips20fill) #confirm data type is double [True]"
   ]
  },
  {
   "cell_type": "markdown",
   "metadata": {},
   "source": [
    "### Alter data type for time "
   ]
  },
  {
   "cell_type": "code",
   "execution_count": null,
   "metadata": {},
   "outputs": [],
   "source": [
    "trips20fill$ride_length <- as.numeric(as.character(trips20fill$ride_length)) #change datatype to numeric for further analysis"
   ]
  },
  {
   "cell_type": "markdown",
   "metadata": {},
   "source": [
    "### Remove all blank entries from the dataset "
   ]
  },
  {
   "cell_type": "code",
   "execution_count": null,
   "metadata": {},
   "outputs": [],
   "source": [
    "trips20fill<- trips20fill[!(trips20fill$start_station_name == \"HQ QR\" | trips20fill$ride_length<0),]"
   ]
  },
  {
   "cell_type": "markdown",
   "metadata": {},
   "source": [
    "### Observe the newly created column for the backup dataset"
   ]
  },
  {
   "cell_type": "code",
   "execution_count": null,
   "metadata": {},
   "outputs": [],
   "source": [
    "summary(trips20fill$ride_length)"
   ]
  },
  {
   "cell_type": "markdown",
   "metadata": {},
   "source": [
    "## Analyze data \n",
    "\n",
    "\n",
    "\n",
    "\n",
    "### Calculating the mean, median, max, min - figures to determine statisical spead of membership type"
   ]
  },
  {
   "cell_type": "code",
   "execution_count": null,
   "metadata": {},
   "outputs": [],
   "source": [
    "aggregate(trips20fill$ride_length ~ trips20fill$member_casual, FUN = mean)\n",
    "aggregate(trips20fill$ride_length ~ trips20fill$member_casual, FUN = median)\n",
    "aggregate(trips20fill$ride_length ~ trips20fill$member_casual, FUN = max)\n",
    "aggregate(trips20fill$ride_length ~ trips20fill$member_casual, FUN = min)"
   ]
  },
  {
   "cell_type": "markdown",
   "metadata": {},
   "source": [
    "\n",
    "### Order day's of week within new dataset for future use"
   ]
  },
  {
   "cell_type": "code",
   "execution_count": null,
   "metadata": {},
   "outputs": [],
   "source": [
    "trips20fill$day_of_week <- ordered(trips20fill$day_of_week, levels=c(\"Sunday\", \"Monday\", \"Tuesday\", \"Wednesday\", \"Thursday\", \"Friday\", \"Saturday\"))"
   ]
  },
  {
   "cell_type": "markdown",
   "metadata": {},
   "source": [
    "### Create a weekday field as well as view column specifics "
   ]
  },
  {
   "cell_type": "code",
   "execution_count": null,
   "metadata": {},
   "outputs": [],
   "source": [
    "trips20fill %>% \n",
    "  mutate(day_of_week = wday(started_at, label = TRUE)) %>%  #creates weekday field using wday()\n",
    "  group_by(member_casual, day_of_week ) %>%  #groups by usertype and weekday\n",
    "  summarise(number_of_rides = n())"
   ]
  },
  {
   "cell_type": "markdown",
   "metadata": {},
   "source": [
    "# Data Visualiation's"
   ]
  },
  {
   "cell_type": "code",
   "execution_count": null,
   "metadata": {},
   "outputs": [],
   "source": [
    "trips20fill$day_of_week  <- format(as.Date(trips20fill$date), \"%A\")\n",
    "trips20fill %>%                              #total rides broken down by weekday\n",
    "  group_by(customer_type, day_of_week) %>% \n",
    "  summarise(number_of_rides = n()) %>% \n",
    "  arrange(customer_type, day_of_week) %>%\n",
    "  ggplot(aes(x = day_of_week, y = number_of_rides, fill = customer_type)) + geom_col(position = \"dodge\") + \n",
    "  labs(x='Day of Week', y='Total Number of Rides', title='Rides per Day of Week', fill = 'Type of Membership') + \n",
    "  scale_y_continuous(breaks = c(250000, 400000, 550000), labels = c(\"250K\", \"400K\", \"550K\"))"
   ]
  },
  {
   "cell_type": "markdown",
   "metadata": {},
   "source": [
    "#### The rides per day of week show casual riders peak on the Saturday and Sunday while members peak Monday through Friday. This indicates members mainly use the bikes for their commutes and not leisure. "
   ]
  },
  {
   "cell_type": "code",
   "execution_count": null,
   "metadata": {},
   "outputs": [],
   "source": [
    "trips20fill %>%   #total rides broken down by month\n",
    "  group_by(member_casual, month) %>%  \n",
    "  summarise(total_rides = n(),`average_duration_(mins)` = mean(ride_length)) %>% \n",
    "  arrange(member_casual) %>% \n",
    "  ggplot(aes(x=month, y=total_rides, fill = member_casual)) + geom_col(position = \"dodge\") + \n",
    "  labs(x= \"Month\", y= \"Total Number of Rides\", title = \"Rides per Month\", fill = \"Type of Membership\") + \n",
    "  scale_y_continuous(breaks = c(100000, 200000, 300000, 400000), labels = c(\"100K\", \"200K\", \"300K\", \"400K\")) + theme(axis.text.x = element_text(angle = 45))"
   ]
  },
  {
   "cell_type": "markdown",
   "metadata": {},
   "source": [
    "#### The rides per month show that casual riders were a lot more active during the summer months than the long-term. Conversly, the winter months show very little activity on the part of the casual users. The long-term users are more active in the winter and spring months."
   ]
  },
  {
   "cell_type": "code",
   "execution_count": null,
   "metadata": {},
   "outputs": [],
   "source": [
    "trips20fill %>%    #looking at breakdown of bike types rented\n",
    "  ggplot(aes(x = rideable_type, fill = member_casual)) + geom_bar(position = \"dodge\") + \n",
    "  labs(x= 'Type of Bike', y='Number of Rentals', title='Which bike works the most', fill = 'Type of Membership') +\n",
    "  scale_y_continuous(breaks = c(500000, 1000000, 1500000), labels = c(\"500K\", \"1Mil\", \"1.5Mil\"))"
   ]
  },
  {
   "cell_type": "markdown",
   "metadata": {},
   "source": [
    "#### The breakdown of which type of bike is the most popular among either type of user. Showing among the two types of bikes classic and electric. both types of memberships prefer using the classic bike more so than the electric bike. The long-term memebrs are also seen to be of the two types favours the classic bike."
   ]
  },
  {
   "cell_type": "code",
   "execution_count": null,
   "metadata": {},
   "outputs": [],
   "source": [
    "trips20fill %>%        #Find the average time spent riding by each membership type per individul day\n",
    "  mutate(day_of_week = wday(started_at, label = TRUE)) %>%  \n",
    "  group_by(member_casual, day_of_week) %>% \n",
    "  summarise(number_of_rides = n()\n",
    "            ,average_duration = mean(ride_length)) %>% \n",
    "  arrange(member_casual, day_of_week)  %>% \n",
    "  ggplot(aes(x = day_of_week, y = average_duration, fill = member_casual)) +\n",
    "  geom_col(position = \"dodge\") + labs(x='Days of the week', y='Average duration - Hrs', title='Average ride time per week', fill='Type of Membership') "
   ]
  },
  {
   "cell_type": "markdown",
   "metadata": {},
   "source": [
    "#### The average ride time shows a stark difference between the casuals and members. Casuals overall spend more time using the service than their full time member counter-parts."
   ]
  },
  {
   "cell_type": "markdown",
   "metadata": {},
   "source": [
    "# what does the data tell us?\n",
    "\n",
    "## key takeaways\n",
    "- Casual users tended to ride more so in the warmer months of Chicago, namely June- August. Their participation exceeded that of the long term members.\n",
    "- To further that the Casual demographic spent on average a lot longer time per ride than their long-term counter-parts. \n",
    "- The days of the week also further shows that causal riders prefer to use the service during the weekends as their usage peaked then. The long term members conversly utilised the service more-so throughout the typical work week i.e (Monday- friday)\n",
    "- Long term riders tended to stick more so to classic bikes as opposed to the docked or electric bikes.\n",
    "\n",
    "# Recommendations\n",
    "##### This report recommends the following:\n",
    "- Introducing plans thats may be more appealing to casuals for the summer months. This marketing should be done during the winter months in preperation. \n",
    "- The casual users might be more interested in a memebrship option that allows for per-use balance card. Alternatively, the existing payment structure may be altered in order to make single-use more costly to the casual riders as well as lowering the long-term membership rate.\n",
    "- Membership rates specifically for the warmer months as well as for those who only ride on the weekends would assist in targeting the casual riders more specifically\n",
    "\n",
    "# Things to Consider\n",
    "\n",
    "## Additional points that were not examined\n",
    " The report understands the scope of this analysis is extremely limited and because of that fact, additional data, as well as data points may have been able to contribute to this report offering an even more granular analysis. The following are data points that could have enhanced the report:\n",
    " \n",
    " - Age and gender: This would add a dynamic to whether or not customers are being targeted across demograpic lines. Is the existing marketing effective? Is there potential for more inclusive targeting?\n",
    " - Pricing structure: THe actual pricing plans data was not provided and would give further insight to which plans are the most popular and by (how much) when comparing them. It would also be effective to understanding the spending behaviour of casual user.\n",
    " - Household income data: Pinpointing the average income of the long-term memebrs as compared to the casual counter-parts would allow for further analysis of what is the typical economic standing of each type of member, as well as providing the ability to analysis overall price sensitivity between the two different membership types.\n",
    " \n",
    " \n",
    "### Thank you for your time!\n",
    " "
   ]
  },
  {
   "cell_type": "markdown",
   "metadata": {},
   "source": []
  },
  {
   "cell_type": "markdown",
   "metadata": {},
   "source": []
  },
  {
   "cell_type": "markdown",
   "metadata": {},
   "source": []
  },
  {
   "cell_type": "markdown",
   "metadata": {},
   "source": []
  }
 ],
 "metadata": {
  "kernelspec": {
   "display_name": "R",
   "language": "R",
   "name": "ir"
  },
  "language_info": {
   "codemirror_mode": "r",
   "file_extension": ".r",
   "mimetype": "text/x-r-source",
   "name": "R",
   "pygments_lexer": "r",
   "version": "4.0.5"
  }
 },
 "nbformat": 4,
 "nbformat_minor": 4
}
